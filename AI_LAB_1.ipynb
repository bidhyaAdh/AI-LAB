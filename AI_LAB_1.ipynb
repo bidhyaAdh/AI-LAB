{
  "nbformat": 4,
  "nbformat_minor": 0,
  "metadata": {
    "colab": {
      "provenance": []
    },
    "kernelspec": {
      "name": "python3",
      "display_name": "Python 3"
    },
    "language_info": {
      "name": "python"
    }
  },
  "cells": [
    {
      "cell_type": "code",
      "source": [
        "def is_palindrome_number(number):\n",
        "    # Convert the number to a string to make it easier to check for palindromes\n",
        "    str_number = str(number)\n",
        "    # Check if the string representation of the number is equal to its reverse\n",
        "    return str_number == str_number[::-1]\n",
        "\n",
        "input_number = int(input(\"Enter a number to check if it's a palindrome: \"))\n",
        "\n",
        "if is_palindrome_number(input_number):\n",
        "    print(f\"{input_number} is a palindrome number.\")\n",
        "else:\n",
        "    print(f\"{input_number} is not a palindrome number.\")"
      ],
      "metadata": {
        "colab": {
          "base_uri": "https://localhost:8080/"
        },
        "id": "l410BUyN1gZw",
        "outputId": "3f6848d4-6e9b-43ed-8b90-2d2bb4994a7f"
      },
      "execution_count": null,
      "outputs": [
        {
          "output_type": "stream",
          "name": "stdout",
          "text": [
            "Enter a number to check if it's a palindrome: 1221\n",
            "1221 is a palindrome number.\n"
          ]
        }
      ]
    },
    {
      "cell_type": "code",
      "source": [
        "def generate_fibonacci_sequence(n):\n",
        "    fib_sequence = [0, 1]\n",
        "    while fib_sequence[-1] + fib_sequence[-2] <= n:\n",
        "        fib_sequence.append(fib_sequence[-1] + fib_sequence[-2])\n",
        "    return fib_sequence\n",
        "\n",
        "target_number = int(input(\"Enter the target number for Fibonacci sequence: \"))\n",
        "\n",
        "fibonacci_sequence = generate_fibonacci_sequence(target_number)\n",
        "print(f\"Fibonacci sequence up to {target_number}: {fibonacci_sequence}\")"
      ],
      "metadata": {
        "colab": {
          "base_uri": "https://localhost:8080/"
        },
        "id": "yqTSMi3Q1yep",
        "outputId": "f23e453c-f214-46fd-9b05-1570d1904286"
      },
      "execution_count": null,
      "outputs": [
        {
          "output_type": "stream",
          "name": "stdout",
          "text": [
            "Enter the target number for Fibonacci sequence: 5\n",
            "Fibonacci sequence up to 5: [0, 1, 1, 2, 3, 5]\n"
          ]
        }
      ]
    },
    {
      "cell_type": "code",
      "source": [
        "import random\n",
        "\n",
        "def number_guessing_game():\n",
        "    # Generate a random number between 1 and 100\n",
        "    secret_number = random.randint(1, 100)\n",
        "\n",
        "    print(\"Welcome to the Number Guessing Game!\")\n",
        "    print(\"I have selected a number between 1 and 100. Can you guess it?\")\n",
        "\n",
        "    attempts = 0\n",
        "    while True:\n",
        "        user_guess = int(input(\"Enter your guess: \"))\n",
        "        attempts += 1\n",
        "\n",
        "        if user_guess < secret_number:\n",
        "            print(\"Too low! Try a higher number.\")\n",
        "        elif user_guess > secret_number:\n",
        "            print(\"Too high! Try a lower number.\")\n",
        "        else:\n",
        "            print(f\"Congratulations! You guessed the correct number {secret_number} in {attempts} attempts.\")\n",
        "            break\n",
        "\n",
        "# Run the number guessing game\n",
        "number_guessing_game()"
      ],
      "metadata": {
        "colab": {
          "base_uri": "https://localhost:8080/"
        },
        "id": "YWtjjxxW2UzT",
        "outputId": "d59039e9-bc23-405b-9318-7714d86c45b1"
      },
      "execution_count": null,
      "outputs": [
        {
          "output_type": "stream",
          "name": "stdout",
          "text": [
            "Welcome to the Number Guessing Game!\n",
            "I have selected a number between 1 and 100. Can you guess it?\n",
            "Enter your guess: 2\n",
            "Too low! Try a higher number.\n",
            "Enter your guess: 55\n",
            "Too high! Try a lower number.\n",
            "Enter your guess: 20\n",
            "Too low! Try a higher number.\n",
            "Enter your guess: 25\n",
            "Too low! Try a higher number.\n",
            "Enter your guess: 28\n",
            "Too high! Try a lower number.\n",
            "Enter your guess: 2\n",
            "Too low! Try a higher number.\n",
            "Enter your guess: 27\n",
            "Congratulations! You guessed the correct number 27 in 7 attempts.\n"
          ]
        }
      ]
    },
    {
      "cell_type": "code",
      "execution_count": null,
      "metadata": {
        "colab": {
          "base_uri": "https://localhost:8080/"
        },
        "id": "Vpqc9XGm08ix",
        "outputId": "e0f9bf56-9b05-4dd6-ff73-7b48d12bebe3"
      },
      "outputs": [
        {
          "output_type": "stream",
          "name": "stdout",
          "text": [
            "Enter the start of the range: 1\n",
            "Enter the end of the range: 20\n",
            "Prime numbers in the range 1 to 20: [2, 3, 5, 7, 11, 13, 17, 19]\n"
          ]
        }
      ],
      "source": [
        "def is_prime(num):\n",
        "    if num < 2:\n",
        "        return False\n",
        "    for i in range(2, int(num**0.5) + 1):\n",
        "        if num % i == 0:\n",
        "            return False\n",
        "    return True\n",
        "\n",
        "def find_primes_in_range(start, end):\n",
        "    prime_numbers = []\n",
        "    for number in range(start, end + 1):\n",
        "        if is_prime(number):\n",
        "            prime_numbers.append(number)\n",
        "    return prime_numbers\n",
        "\n",
        "# Example usage:\n",
        "start_range = int(input(\"Enter the start of the range: \"))\n",
        "end_range = int(input(\"Enter the end of the range: \"))\n",
        "\n",
        "result = find_primes_in_range(start_range, end_range)\n",
        "print(f\"Prime numbers in the range {start_range} to {end_range}: {result}\")"
      ]
    }
  ]
}